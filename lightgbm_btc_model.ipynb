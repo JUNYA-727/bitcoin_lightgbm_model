{
  "nbformat": 4,
  "nbformat_minor": 0,
  "metadata": {
    "colab": {
      "name": "lightgbm_btc_model.ipynb",
      "provenance": [],
      "mount_file_id": "1PWu_KpUovHCBLrLmds4lwuHymA44Vsa8",
      "authorship_tag": "ABX9TyN7zQtjINdywRz9m9JSJocr",
      "include_colab_link": true
    },
    "kernelspec": {
      "name": "python3",
      "display_name": "Python 3"
    },
    "language_info": {
      "name": "python"
    },
    "accelerator": "GPU"
  },
  "cells": [
    {
      "cell_type": "markdown",
      "metadata": {
        "id": "view-in-github",
        "colab_type": "text"
      },
      "source": [
        "<a href=\"https://colab.research.google.com/github/JUNYA-727/bitcoin_lightgbm_model/blob/main/lightgbm_btc_model.ipynb\" target=\"_parent\"><img src=\"https://colab.research.google.com/assets/colab-badge.svg\" alt=\"Open In Colab\"/></a>"
      ]
    },
    {
      "cell_type": "code",
      "metadata": {
        "id": "PeZB9NtEMQGu"
      },
      "source": [
        "from google.colab import drive\n",
        "drive.mount('/content/drive')"
      ],
      "execution_count": null,
      "outputs": []
    },
    {
      "cell_type": "code",
      "metadata": {
        "id": "GWueYSpGMfX-"
      },
      "source": [
        "!pip install optuna"
      ],
      "execution_count": null,
      "outputs": []
    },
    {
      "cell_type": "code",
      "metadata": {
        "id": "5mgsej8rMzCV"
      },
      "source": [
        "#特徴量として使用するテクニカル指標の計算のライブラリ\n",
        "!wget http://prdownloads.sourceforge.net/ta-lib/ta-lib-0.4.0-src.tar.gz\n",
        "!tar -xzvf ta-lib-0.4.0-src.tar.gz\n",
        "%cd ta-lib\n",
        "!./configure --prefix=/usr\n",
        "!make\n",
        "!make install\n",
        "!pip install Ta-Lib"
      ],
      "execution_count": null,
      "outputs": []
    },
    {
      "cell_type": "code",
      "metadata": {
        "id": "xRoppeLyMcci"
      },
      "source": [
        "import pandas as pd\n",
        "import talib\n",
        "import matplotlib.pyplot as plt\n",
        "from sklearn.model_selection import train_test_split\n",
        "import optuna.integration.lightgbm as lgb\n",
        "import numpy as np"
      ],
      "execution_count": 50,
      "outputs": []
    },
    {
      "cell_type": "code",
      "metadata": {
        "colab": {
          "base_uri": "https://localhost:8080/",
          "height": 615
        },
        "id": "tAoE6qrmMTLH",
        "outputId": "e982e554-58f2-4d54-d452-dde65213ff3d"
      },
      "source": [
        "df1=pd.read_csv('/content/drive/MyDrive/btc 9月12日-11月26日.csv')\n",
        "df1"
      ],
      "execution_count": 40,
      "outputs": [
        {
          "output_type": "execute_result",
          "data": {
            "text/html": [
              "<div>\n",
              "<style scoped>\n",
              "    .dataframe tbody tr th:only-of-type {\n",
              "        vertical-align: middle;\n",
              "    }\n",
              "\n",
              "    .dataframe tbody tr th {\n",
              "        vertical-align: top;\n",
              "    }\n",
              "\n",
              "    .dataframe thead th {\n",
              "        text-align: right;\n",
              "    }\n",
              "</style>\n",
              "<table border=\"1\" class=\"dataframe\">\n",
              "  <thead>\n",
              "    <tr style=\"text-align: right;\">\n",
              "      <th></th>\n",
              "      <th>2021-09-12 14:45:00</th>\n",
              "      <th>45853.99</th>\n",
              "      <th>45857.72</th>\n",
              "      <th>45842.03</th>\n",
              "      <th>45857.72.1</th>\n",
              "      <th>0.8006</th>\n",
              "    </tr>\n",
              "  </thead>\n",
              "  <tbody>\n",
              "    <tr>\n",
              "      <th>0</th>\n",
              "      <td>2021-09-12 15:00:00</td>\n",
              "      <td>45896.18</td>\n",
              "      <td>45896.18</td>\n",
              "      <td>45819.53</td>\n",
              "      <td>45819.53</td>\n",
              "      <td>0.500400</td>\n",
              "    </tr>\n",
              "    <tr>\n",
              "      <th>1</th>\n",
              "      <td>2021-09-12 15:15:00</td>\n",
              "      <td>45813.99</td>\n",
              "      <td>45813.99</td>\n",
              "      <td>45813.99</td>\n",
              "      <td>45813.99</td>\n",
              "      <td>0.010000</td>\n",
              "    </tr>\n",
              "    <tr>\n",
              "      <th>2</th>\n",
              "      <td>2021-09-12 15:45:00</td>\n",
              "      <td>45834.92</td>\n",
              "      <td>45834.92</td>\n",
              "      <td>45747.05</td>\n",
              "      <td>45747.05</td>\n",
              "      <td>1.760000</td>\n",
              "    </tr>\n",
              "    <tr>\n",
              "      <th>3</th>\n",
              "      <td>2021-09-12 16:00:00</td>\n",
              "      <td>45807.04</td>\n",
              "      <td>45881.14</td>\n",
              "      <td>45807.04</td>\n",
              "      <td>45881.14</td>\n",
              "      <td>0.018020</td>\n",
              "    </tr>\n",
              "    <tr>\n",
              "      <th>4</th>\n",
              "      <td>2021-09-12 16:15:00</td>\n",
              "      <td>45881.14</td>\n",
              "      <td>45881.14</td>\n",
              "      <td>45881.14</td>\n",
              "      <td>45881.14</td>\n",
              "      <td>1.278035</td>\n",
              "    </tr>\n",
              "    <tr>\n",
              "      <th>...</th>\n",
              "      <td>...</td>\n",
              "      <td>...</td>\n",
              "      <td>...</td>\n",
              "      <td>...</td>\n",
              "      <td>...</td>\n",
              "      <td>...</td>\n",
              "    </tr>\n",
              "    <tr>\n",
              "      <th>5994</th>\n",
              "      <td>2021-11-26 13:45:00</td>\n",
              "      <td>54293.16</td>\n",
              "      <td>54421.48</td>\n",
              "      <td>54276.06</td>\n",
              "      <td>54388.82</td>\n",
              "      <td>0.307000</td>\n",
              "    </tr>\n",
              "    <tr>\n",
              "      <th>5995</th>\n",
              "      <td>2021-11-26 14:00:00</td>\n",
              "      <td>54468.70</td>\n",
              "      <td>54591.47</td>\n",
              "      <td>54459.06</td>\n",
              "      <td>54591.47</td>\n",
              "      <td>0.459667</td>\n",
              "    </tr>\n",
              "    <tr>\n",
              "      <th>5996</th>\n",
              "      <td>2021-11-26 14:15:00</td>\n",
              "      <td>54731.51</td>\n",
              "      <td>54731.51</td>\n",
              "      <td>54559.06</td>\n",
              "      <td>54671.26</td>\n",
              "      <td>1.762644</td>\n",
              "    </tr>\n",
              "    <tr>\n",
              "      <th>5997</th>\n",
              "      <td>2021-11-26 14:30:00</td>\n",
              "      <td>54785.51</td>\n",
              "      <td>54933.69</td>\n",
              "      <td>54785.51</td>\n",
              "      <td>54933.69</td>\n",
              "      <td>0.651511</td>\n",
              "    </tr>\n",
              "    <tr>\n",
              "      <th>5998</th>\n",
              "      <td>2021-11-26 14:45:00</td>\n",
              "      <td>54903.12</td>\n",
              "      <td>54949.30</td>\n",
              "      <td>54894.46</td>\n",
              "      <td>54894.46</td>\n",
              "      <td>0.544434</td>\n",
              "    </tr>\n",
              "  </tbody>\n",
              "</table>\n",
              "<p>5999 rows × 6 columns</p>\n",
              "</div>"
            ],
            "text/plain": [
              "      2021-09-12 14:45:00  45853.99  45857.72  45842.03  45857.72.1    0.8006\n",
              "0     2021-09-12 15:00:00  45896.18  45896.18  45819.53    45819.53  0.500400\n",
              "1     2021-09-12 15:15:00  45813.99  45813.99  45813.99    45813.99  0.010000\n",
              "2     2021-09-12 15:45:00  45834.92  45834.92  45747.05    45747.05  1.760000\n",
              "3     2021-09-12 16:00:00  45807.04  45881.14  45807.04    45881.14  0.018020\n",
              "4     2021-09-12 16:15:00  45881.14  45881.14  45881.14    45881.14  1.278035\n",
              "...                   ...       ...       ...       ...         ...       ...\n",
              "5994  2021-11-26 13:45:00  54293.16  54421.48  54276.06    54388.82  0.307000\n",
              "5995  2021-11-26 14:00:00  54468.70  54591.47  54459.06    54591.47  0.459667\n",
              "5996  2021-11-26 14:15:00  54731.51  54731.51  54559.06    54671.26  1.762644\n",
              "5997  2021-11-26 14:30:00  54785.51  54933.69  54785.51    54933.69  0.651511\n",
              "5998  2021-11-26 14:45:00  54903.12  54949.30  54894.46    54894.46  0.544434\n",
              "\n",
              "[5999 rows x 6 columns]"
            ]
          },
          "metadata": {},
          "execution_count": 40
        }
      ]
    },
    {
      "cell_type": "code",
      "metadata": {
        "colab": {
          "base_uri": "https://localhost:8080/",
          "height": 441
        },
        "id": "OFBhNwrTMTGs",
        "outputId": "459f41ae-3c85-49de-86be-37a7da643050"
      },
      "source": [
        "df2=pd.read_csv('/content/drive/MyDrive/btc 11月26日②　15分ごとデータ.csv')\n",
        "df2"
      ],
      "execution_count": 41,
      "outputs": [
        {
          "output_type": "execute_result",
          "data": {
            "text/html": [
              "<div>\n",
              "<style scoped>\n",
              "    .dataframe tbody tr th:only-of-type {\n",
              "        vertical-align: middle;\n",
              "    }\n",
              "\n",
              "    .dataframe tbody tr th {\n",
              "        vertical-align: top;\n",
              "    }\n",
              "\n",
              "    .dataframe thead th {\n",
              "        text-align: right;\n",
              "    }\n",
              "</style>\n",
              "<table border=\"1\" class=\"dataframe\">\n",
              "  <thead>\n",
              "    <tr style=\"text-align: right;\">\n",
              "      <th></th>\n",
              "      <th>2021/11/26 14:45</th>\n",
              "      <th>54903.12</th>\n",
              "      <th>55015.21</th>\n",
              "      <th>54894.46</th>\n",
              "      <th>54943.44</th>\n",
              "      <th>1.15184948</th>\n",
              "    </tr>\n",
              "  </thead>\n",
              "  <tbody>\n",
              "    <tr>\n",
              "      <th>0</th>\n",
              "      <td>2021/11/26 15:00</td>\n",
              "      <td>54943.44</td>\n",
              "      <td>54947.27</td>\n",
              "      <td>54676.14</td>\n",
              "      <td>54947.27</td>\n",
              "      <td>0.015000</td>\n",
              "    </tr>\n",
              "    <tr>\n",
              "      <th>1</th>\n",
              "      <td>2021/11/26 15:15</td>\n",
              "      <td>54947.27</td>\n",
              "      <td>54947.27</td>\n",
              "      <td>54752.51</td>\n",
              "      <td>54752.51</td>\n",
              "      <td>0.666000</td>\n",
              "    </tr>\n",
              "    <tr>\n",
              "      <th>2</th>\n",
              "      <td>2021/11/26 15:30</td>\n",
              "      <td>54752.51</td>\n",
              "      <td>54752.51</td>\n",
              "      <td>54558.78</td>\n",
              "      <td>54697.05</td>\n",
              "      <td>0.632696</td>\n",
              "    </tr>\n",
              "    <tr>\n",
              "      <th>3</th>\n",
              "      <td>2021/11/26 15:45</td>\n",
              "      <td>54697.05</td>\n",
              "      <td>54702.35</td>\n",
              "      <td>54679.03</td>\n",
              "      <td>54702.35</td>\n",
              "      <td>0.465000</td>\n",
              "    </tr>\n",
              "    <tr>\n",
              "      <th>4</th>\n",
              "      <td>2021/11/26 16:00</td>\n",
              "      <td>54673.13</td>\n",
              "      <td>54673.13</td>\n",
              "      <td>54399.65</td>\n",
              "      <td>54429.49</td>\n",
              "      <td>8.795818</td>\n",
              "    </tr>\n",
              "    <tr>\n",
              "      <th>...</th>\n",
              "      <td>...</td>\n",
              "      <td>...</td>\n",
              "      <td>...</td>\n",
              "      <td>...</td>\n",
              "      <td>...</td>\n",
              "      <td>...</td>\n",
              "    </tr>\n",
              "    <tr>\n",
              "      <th>782</th>\n",
              "      <td>2021/12/6 4:00</td>\n",
              "      <td>49162.85</td>\n",
              "      <td>49162.85</td>\n",
              "      <td>49120.46</td>\n",
              "      <td>49120.46</td>\n",
              "      <td>0.610000</td>\n",
              "    </tr>\n",
              "    <tr>\n",
              "      <th>783</th>\n",
              "      <td>2021/12/6 4:30</td>\n",
              "      <td>49259.44</td>\n",
              "      <td>49259.44</td>\n",
              "      <td>49242.76</td>\n",
              "      <td>49242.76</td>\n",
              "      <td>0.104916</td>\n",
              "    </tr>\n",
              "    <tr>\n",
              "      <th>784</th>\n",
              "      <td>2021/12/6 4:45</td>\n",
              "      <td>49286.46</td>\n",
              "      <td>49286.46</td>\n",
              "      <td>49207.80</td>\n",
              "      <td>49207.80</td>\n",
              "      <td>0.056292</td>\n",
              "    </tr>\n",
              "    <tr>\n",
              "      <th>785</th>\n",
              "      <td>2021/12/6 5:00</td>\n",
              "      <td>49060.18</td>\n",
              "      <td>49060.18</td>\n",
              "      <td>49022.18</td>\n",
              "      <td>49022.18</td>\n",
              "      <td>0.011010</td>\n",
              "    </tr>\n",
              "    <tr>\n",
              "      <th>786</th>\n",
              "      <td>2021/12/6 5:15</td>\n",
              "      <td>49012.98</td>\n",
              "      <td>49012.98</td>\n",
              "      <td>48968.81</td>\n",
              "      <td>48968.81</td>\n",
              "      <td>0.020000</td>\n",
              "    </tr>\n",
              "  </tbody>\n",
              "</table>\n",
              "<p>787 rows × 6 columns</p>\n",
              "</div>"
            ],
            "text/plain": [
              "     2021/11/26 14:45  54903.12  55015.21  54894.46  54943.44  1.15184948\n",
              "0    2021/11/26 15:00  54943.44  54947.27  54676.14  54947.27    0.015000\n",
              "1    2021/11/26 15:15  54947.27  54947.27  54752.51  54752.51    0.666000\n",
              "2    2021/11/26 15:30  54752.51  54752.51  54558.78  54697.05    0.632696\n",
              "3    2021/11/26 15:45  54697.05  54702.35  54679.03  54702.35    0.465000\n",
              "4    2021/11/26 16:00  54673.13  54673.13  54399.65  54429.49    8.795818\n",
              "..                ...       ...       ...       ...       ...         ...\n",
              "782    2021/12/6 4:00  49162.85  49162.85  49120.46  49120.46    0.610000\n",
              "783    2021/12/6 4:30  49259.44  49259.44  49242.76  49242.76    0.104916\n",
              "784    2021/12/6 4:45  49286.46  49286.46  49207.80  49207.80    0.056292\n",
              "785    2021/12/6 5:00  49060.18  49060.18  49022.18  49022.18    0.011010\n",
              "786    2021/12/6 5:15  49012.98  49012.98  48968.81  48968.81    0.020000\n",
              "\n",
              "[787 rows x 6 columns]"
            ]
          },
          "metadata": {},
          "execution_count": 41
        }
      ]
    },
    {
      "cell_type": "code",
      "metadata": {
        "id": "kv6siIZaNHW7"
      },
      "source": [
        "df1=df1.iloc[0:,4:5]\n",
        "df1.columns=['price']\n",
        "df2=df2.iloc[0:,4:5]\n",
        "df2.columns=['price']"
      ],
      "execution_count": 42,
      "outputs": []
    },
    {
      "cell_type": "code",
      "metadata": {
        "id": "WEkehUXmN5KR"
      },
      "source": [
        "df3=pd.concat([df1,df2],axis=0).reset_index(drop=True)"
      ],
      "execution_count": 45,
      "outputs": []
    },
    {
      "cell_type": "code",
      "metadata": {
        "id": "K2xzfp1iOaPe"
      },
      "source": [
        "# talibで特徴量を加える\n",
        "#単純移動平均線　期間は10と20\n",
        "df3['sma10']=talib.SMA(df3['price'],timeperiod=10)\n",
        "df3['sma20']=talib.SMA(df3['price'],timeperiod=20)\n",
        "#ボリンジャーバンド　期間は20で偏差は±2σ\n",
        "up,middle,low=talib.BBANDS(df3['price'],timeperiod=20,nbdevdn=2,nbdevup=2,matype=0)\n",
        "df3['bb_up']=up\n",
        "df3['bb_low']=low\n",
        "#MACD(移動平均収束拡散手法)､期間は12,26\n",
        "macd,macdsignal,macdhist=talib.MACD(df3['price'],fastperiod=12,slowperiod=26,signalperiod=9)\n",
        "df3['macd']=macd\n",
        "df3['macdsignal']=macdsignal\n",
        "df3['macdhist']=macdhist\n",
        "#RSI(相対力指数)､期間は9､14\n",
        "df3['rsi9']=talib.RSI(df3['price'],timeperiod=9)\n",
        "df3['rsi14']=talib.RSI(df3['price'],timeperiod=14)\n",
        "#モメンタム､期間は10\n",
        "df3['mom']=talib.MOM(df3['price'],timeperiod=10)\n",
        "#ストティキャスRSI\n",
        "fastk,fastd=talib.STOCHRSI(df3['price'],timeperiod=14,fastk_period=5,fastd_period=3,fastd_matype=0)\n",
        "df3['fastk']=fastk\n",
        "df3['fastd']=fastd\n",
        "#分散､期間は5\n",
        "df3['var']=talib.VAR(df3['price'],timeperiod=5,nbdev=1)\n",
        "#線形回帰､期間は14\n",
        "df3['line']=talib.LINEARREG(df3['price'],timeperiod=14)\n",
        "#線形回帰の角度､期間は14\n",
        "df3['lineangle']=talib.LINEARREG_ANGLE(df3['price'],timeperiod=14)"
      ],
      "execution_count": 46,
      "outputs": []
    },
    {
      "cell_type": "code",
      "metadata": {
        "id": "jP1zDW3WVJKy"
      },
      "source": [
        "df3=df3[33:].reset_index(drop=True)"
      ],
      "execution_count": 47,
      "outputs": []
    },
    {
      "cell_type": "code",
      "metadata": {
        "colab": {
          "base_uri": "https://localhost:8080/"
        },
        "id": "cpicj2oLWvIs",
        "outputId": "69f77893-d34f-4206-9983-b8de1177b828"
      },
      "source": [
        "price=np.array(df3[\"price\"])\n",
        "action=[]\n",
        "#sellは0でbuyは1でラベル付け\n",
        "for i in range(len(price)-2):\n",
        "  new=price[i+2]-price[i+1]\n",
        "  if 0<=new:\n",
        "    action.append(1)\n",
        "  else:\n",
        "    action.append(0)\n",
        "df=df3[1:-1].reset_index(drop=True)\n",
        "df.insert(0,'action',action)\n",
        "print(df['action'].value_counts())"
      ],
      "execution_count": 51,
      "outputs": [
        {
          "output_type": "stream",
          "name": "stdout",
          "text": [
            "0    3418\n",
            "1    3333\n",
            "Name: action, dtype: int64\n"
          ]
        }
      ]
    },
    {
      "cell_type": "code",
      "metadata": {
        "id": "1TJdxWDZYDBc"
      },
      "source": [
        "x=df.iloc[:,1:]\n",
        "y=df.iloc[:,:1]\n",
        "x_train,x_test,y_train,y_test=train_test_split(x,y,test_size=0.2,shuffle=False)\n",
        "lgb_train=lgb.Dataset(x_train,y_train)\n",
        "lgb_test=lgb.Dataset(x_test,y_test,reference=lgb_train)\n",
        "\n",
        "param={\n",
        "    'task':'train',\n",
        "    'boosting_type':'gbdt',\n",
        "    'obective':'binary',\n",
        "    'verbose':'-1',\n",
        "    'metric':'binary_error',\n",
        "}\n",
        "best=lgb.train(param,\n",
        "              lgb_train,\n",
        "              valid_sets=lgb_test,\n",
        "              early_stopping_rounds=500,\n",
        "              verbose_eval=False)\n",
        "print(best.params)\n",
        "print(best.best_iteration)\n",
        "print(best.best_score)"
      ],
      "execution_count": null,
      "outputs": []
    },
    {
      "cell_type": "code",
      "metadata": {
        "colab": {
          "base_uri": "https://localhost:8080/",
          "height": 551
        },
        "id": "nIET5Du5avnd",
        "outputId": "ff1f81c8-15d7-494b-8f59-41d6b149c3f8"
      },
      "source": [
        "score=(np.array(best.feature_importance())/np.sum(np.array(best.feature_importance())))\n",
        "cols=list(x.columns)\n",
        "importance=pd.DataFrame({'feature':cols,'importance':score})\n",
        "importance"
      ],
      "execution_count": 80,
      "outputs": [
        {
          "output_type": "execute_result",
          "data": {
            "text/html": [
              "<div>\n",
              "<style scoped>\n",
              "    .dataframe tbody tr th:only-of-type {\n",
              "        vertical-align: middle;\n",
              "    }\n",
              "\n",
              "    .dataframe tbody tr th {\n",
              "        vertical-align: top;\n",
              "    }\n",
              "\n",
              "    .dataframe thead th {\n",
              "        text-align: right;\n",
              "    }\n",
              "</style>\n",
              "<table border=\"1\" class=\"dataframe\">\n",
              "  <thead>\n",
              "    <tr style=\"text-align: right;\">\n",
              "      <th></th>\n",
              "      <th>feature</th>\n",
              "      <th>importance</th>\n",
              "    </tr>\n",
              "  </thead>\n",
              "  <tbody>\n",
              "    <tr>\n",
              "      <th>0</th>\n",
              "      <td>price</td>\n",
              "      <td>0.019048</td>\n",
              "    </tr>\n",
              "    <tr>\n",
              "      <th>1</th>\n",
              "      <td>sma10</td>\n",
              "      <td>0.019048</td>\n",
              "    </tr>\n",
              "    <tr>\n",
              "      <th>2</th>\n",
              "      <td>sma20</td>\n",
              "      <td>0.047619</td>\n",
              "    </tr>\n",
              "    <tr>\n",
              "      <th>3</th>\n",
              "      <td>bb_up</td>\n",
              "      <td>0.033333</td>\n",
              "    </tr>\n",
              "    <tr>\n",
              "      <th>4</th>\n",
              "      <td>bb_low</td>\n",
              "      <td>0.028571</td>\n",
              "    </tr>\n",
              "    <tr>\n",
              "      <th>5</th>\n",
              "      <td>macd</td>\n",
              "      <td>0.057143</td>\n",
              "    </tr>\n",
              "    <tr>\n",
              "      <th>6</th>\n",
              "      <td>macdsignal</td>\n",
              "      <td>0.061905</td>\n",
              "    </tr>\n",
              "    <tr>\n",
              "      <th>7</th>\n",
              "      <td>macdhist</td>\n",
              "      <td>0.066667</td>\n",
              "    </tr>\n",
              "    <tr>\n",
              "      <th>8</th>\n",
              "      <td>rsi9</td>\n",
              "      <td>0.052381</td>\n",
              "    </tr>\n",
              "    <tr>\n",
              "      <th>9</th>\n",
              "      <td>rsi14</td>\n",
              "      <td>0.071429</td>\n",
              "    </tr>\n",
              "    <tr>\n",
              "      <th>10</th>\n",
              "      <td>mom</td>\n",
              "      <td>0.138095</td>\n",
              "    </tr>\n",
              "    <tr>\n",
              "      <th>11</th>\n",
              "      <td>fastk</td>\n",
              "      <td>0.095238</td>\n",
              "    </tr>\n",
              "    <tr>\n",
              "      <th>12</th>\n",
              "      <td>fastd</td>\n",
              "      <td>0.138095</td>\n",
              "    </tr>\n",
              "    <tr>\n",
              "      <th>13</th>\n",
              "      <td>var</td>\n",
              "      <td>0.095238</td>\n",
              "    </tr>\n",
              "    <tr>\n",
              "      <th>14</th>\n",
              "      <td>line</td>\n",
              "      <td>0.023810</td>\n",
              "    </tr>\n",
              "    <tr>\n",
              "      <th>15</th>\n",
              "      <td>lineangle</td>\n",
              "      <td>0.052381</td>\n",
              "    </tr>\n",
              "  </tbody>\n",
              "</table>\n",
              "</div>"
            ],
            "text/plain": [
              "       feature  importance\n",
              "0        price    0.019048\n",
              "1        sma10    0.019048\n",
              "2        sma20    0.047619\n",
              "3        bb_up    0.033333\n",
              "4       bb_low    0.028571\n",
              "5         macd    0.057143\n",
              "6   macdsignal    0.061905\n",
              "7     macdhist    0.066667\n",
              "8         rsi9    0.052381\n",
              "9        rsi14    0.071429\n",
              "10         mom    0.138095\n",
              "11       fastk    0.095238\n",
              "12       fastd    0.138095\n",
              "13         var    0.095238\n",
              "14        line    0.023810\n",
              "15   lineangle    0.052381"
            ]
          },
          "metadata": {},
          "execution_count": 80
        }
      ]
    },
    {
      "cell_type": "code",
      "metadata": {
        "colab": {
          "base_uri": "https://localhost:8080/",
          "height": 338
        },
        "id": "qAZawBGkcKcq",
        "outputId": "9841cc3f-85bf-4737-8ff4-7ae1a0f11aab"
      },
      "source": [
        "lgb.plot_importance(best,figsize=(10,5))\n",
        "plt.savefig('/content1.png')"
      ],
      "execution_count": 176,
      "outputs": [
        {
          "output_type": "display_data",
          "data": {
            "image/png": "[encoded data removed]",
            "text/plain": [
              "<Figure size 720x360 with 1 Axes>"
            ]
          },
          "metadata": {
            "needs_background": "light"
          }
        }
      ]
    },
    {
      "cell_type": "code",
      "metadata": {
        "colab": {
          "base_uri": "https://localhost:8080/"
        },
        "id": "UM8b4zYVeZ81",
        "outputId": "dc75f3a7-bf6b-40ff-c4d3-c45642ccaf5c"
      },
      "source": [
        "predict=best.predict(x_test,num_iteration=best.best_iteration)\n",
        "test=y_test.values.tolist()\n",
        "check=[]\n",
        "#testデータで精度の確認\n",
        "for i in range(len(predict)):\n",
        "  if predict[i]>=0.5:\n",
        "    check.append(1)\n",
        "  else:\n",
        "    check.append(0)\n",
        "answer=[]\n",
        "for i in range(len(y_test)):\n",
        "  if test[i][0]==0:\n",
        "    answer.append(0)\n",
        "  else:\n",
        "    answer.append(1)\n",
        "game=[]\n",
        "for i in range(len(answer)):\n",
        "  if answer[i]==check[i]:\n",
        "    game.append('win')\n",
        "  else:\n",
        "    game.append('lose')\n",
        "\n",
        "\n",
        "print('予測とテストデータの一致した数:'+str(game.count('win')))\n",
        "print('予測とテストデータの外した数:'+str(game.count('lose')))\n",
        "print('sellを予測した数:'+str(check.count(0))+' buyを予測した数:'+str(check.count(1)))\n",
        "print('実際のsellの数:'+str(answer.count(0))+'実際のbuyの数:'+str(answer.count(1)))"
      ],
      "execution_count": 109,
      "outputs": [
        {
          "output_type": "stream",
          "name": "stdout",
          "text": [
            "予測とテストデータの一致した数:741\n",
            "予測とテストデータの外した数:610\n",
            "sellを予測した数:584 buyを予測した数:767\n",
            "実際のsellの数:718実際のbuyの数:633\n"
          ]
        }
      ]
    },
    {
      "cell_type": "code",
      "metadata": {
        "colab": {
          "base_uri": "https://localhost:8080/",
          "height": 350
        },
        "id": "vhSSdotSgX2L",
        "outputId": "b5ccf07b-936b-4999-c503-7c695b4a8e40"
      },
      "source": [
        "#testデータで実際の自動売買を行ってみて利益がどうなるか\n",
        "price=np.array(x_test['price'])\n",
        "money=[0]\n",
        "#エントリーしているかの状態確認(1ならsellでエントリー､2ならbuyでエントリーしている状態を指す)\n",
        "have=0\n",
        "#いつエントリーしたかを格納しておく\n",
        "sell_data=[]\n",
        "buy_data=[]\n",
        "#儲け\n",
        "profit=0\n",
        "\n",
        "for i in range(len(x_test)):\n",
        "  #エントリーしていない状態の時\n",
        "  if have==0:\n",
        "    #sellでエントリー\n",
        "    if check[i]==0:\n",
        "      have=1\n",
        "      sell_data.append(i)\n",
        "      continue\n",
        "    #buyでエントリー\n",
        "    if check[i]==1:\n",
        "      have=2\n",
        "      buy_data.append(i)\n",
        "      continue\n",
        "  #売りでエントリーしている状態の時\n",
        "  if have==1:\n",
        "    #次もsellだと予測したら､保有\n",
        "    if check[i]==0:\n",
        "      continue\n",
        "    #次がbuyだと予測したら､決済\n",
        "    if check[i]==1:\n",
        "      profit+=price[sell_data[-1]]-price[i]\n",
        "      money.append(profit)\n",
        "      have=0\n",
        "      continue\n",
        "  #買いでエントリーしている状態の時\n",
        "  if have==2:\n",
        "    #次もbuyだと予測したら､保有\n",
        "    if check[i]==1:\n",
        "      continue\n",
        "    #次がsellだと予測したら､決済\n",
        "    if check[i]==0:\n",
        "      profit+=price[i]-price[buy_data[-1]]\n",
        "      money.append(profit)\n",
        "      have=0\n",
        "      continue\n",
        "plt.figure(figsize=(10,5))\n",
        "plt.plot(money)    \n",
        "plt.title('profit')\n",
        "plt.xlabel('time')\n",
        "plt.ylabel('money')\n",
        "plt.savefig('/content2.png')\n",
        "plt.show()"
      ],
      "execution_count": 177,
      "outputs": [
        {
          "output_type": "display_data",
          "data": {
            "image/png": "[encoded data removed]",
            "text/plain": [
              "<Figure size 720x360 with 1 Axes>"
            ]
          },
          "metadata": {
            "needs_background": "light"
          }
        }
      ]
    },
    {
      "cell_type": "code",
      "metadata": {
        "colab": {
          "base_uri": "https://localhost:8080/",
          "height": 226
        },
        "id": "ZIWI_cxhgd3Y",
        "outputId": "5fb04f2b-933c-4b3c-907f-fc99448676f1"
      },
      "source": [
        "#どこでsellとbuyのエントリーをしているのか\n",
        "plt.figure(figsize=(30,10))\n",
        "plt.plot(price,color='green',label='price')\n",
        "for i in sell_data:\n",
        "  plt.plot(i,price[i],marker='.',color='red')\n",
        "for j in buy_data:\n",
        "  plt.plot(j,price[j],marker='.',color='blue')\n",
        "plt.plot(sell_data[0],price[sell_data[0]],marker='.',color='red',label='sell_entry')\n",
        "plt.plot(buy_data[0],price[buy_data[0]],marker='.',color='blue',label='buy_entry')\n",
        "plt.legend(fontsize=20)\n",
        "plt.savefig('/content3.png')\n",
        "plt.show()"
      ],
      "execution_count": 178,
      "outputs": [
        {
          "output_type": "display_data",
          "data": {
            "image/png": "[encoded data removed]",
            "text/plain": [
              "<Figure size 2160x720 with 1 Axes>"
            ]
          },
          "metadata": {
            "needs_background": "light"
          }
        }
      ]
    },
    {
      "cell_type": "code",
      "metadata": {
        "id": "HaCC8fPjtFS5"
      },
      "source": [
        "#モデルの保存　\n",
        "import pickle\n",
        "file = '/trained_model.pkl'\n",
        "pickle.dump(best, open(file, 'wb'))"
      ],
      "execution_count": 179,
      "outputs": []
    },
    {
      "cell_type": "code",
      "metadata": {
        "id": "nPCnPudHtRGv"
      },
      "source": [
        "#モデルの読み込み(確認として)\n",
        "gbm=pickle.load(open('/trained_model.pkl','rb'))\n",
        "pred=gbm.predict(x_test)"
      ],
      "execution_count": 183,
      "outputs": []
    }
  ]
}